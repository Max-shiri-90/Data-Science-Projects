{
 "cells": [
  {
   "cell_type": "markdown",
   "id": "6374d361",
   "metadata": {},
   "source": [
    "## 15. How many distinct countries are represented in the dataset?"
   ]
  },
  {
   "cell_type": "code",
   "execution_count": 1,
   "id": "2fc51a6d",
   "metadata": {},
   "outputs": [],
   "source": [
    "import pandas as pd\n",
    "import glob\n",
    "from concurrent.futures import ThreadPoolExecutor"
   ]
  },
  {
   "cell_type": "code",
   "execution_count": 2,
   "id": "e3ae3b1c",
   "metadata": {},
   "outputs": [],
   "source": [
    "# Find parquet files for home and away teams\n",
    "home_files= glob.glob(r'../data/raw/*/home_team_[0-9]*.parquet')\n",
    "away_files= glob.glob(r'../data/raw/*/away_team_[0-9]*.parquet')"
   ]
  },
  {
   "cell_type": "code",
   "execution_count": null,
   "id": "03a0102d",
   "metadata": {},
   "outputs": [],
   "source": [
    "# Function to read the 'country' column from a parquet file\n",
    "def read_parquet_file(path):\n",
    "    return pd.read_parquet(path, columns=['match_id', 'country', 'full_name'], engine='pyarrow')"
   ]
  },
  {
   "cell_type": "code",
   "execution_count": 4,
   "id": "82bcad97",
   "metadata": {},
   "outputs": [],
   "source": [
    "# Read home and away files in parallel using 4 threads each\n",
    "with ThreadPoolExecutor(max_workers=4) as executor:\n",
    "    df_home_list= list(executor.map(read_parquet_file, home_files))\n",
    "    \n",
    "with ThreadPoolExecutor(max_workers=4) as executor:\n",
    "    df_away_list= list(executor.map(read_parquet_file, away_files))"
   ]
  },
  {
   "cell_type": "code",
   "execution_count": 5,
   "id": "c85095a2",
   "metadata": {},
   "outputs": [
    {
     "data": {
      "text/html": [
       "<div>\n",
       "<style scoped>\n",
       "    .dataframe tbody tr th:only-of-type {\n",
       "        vertical-align: middle;\n",
       "    }\n",
       "\n",
       "    .dataframe tbody tr th {\n",
       "        vertical-align: top;\n",
       "    }\n",
       "\n",
       "    .dataframe thead th {\n",
       "        text-align: right;\n",
       "    }\n",
       "</style>\n",
       "<table border=\"1\" class=\"dataframe\">\n",
       "  <thead>\n",
       "    <tr style=\"text-align: right;\">\n",
       "      <th></th>\n",
       "      <th>match_id</th>\n",
       "      <th>country</th>\n",
       "      <th>full_name</th>\n",
       "    </tr>\n",
       "  </thead>\n",
       "  <tbody>\n",
       "    <tr>\n",
       "      <th>0</th>\n",
       "      <td>12080595</td>\n",
       "      <td>Italy</td>\n",
       "      <td>Caruso, Salvatore</td>\n",
       "    </tr>\n",
       "    <tr>\n",
       "      <th>1</th>\n",
       "      <td>12080174</td>\n",
       "      <td>Italy</td>\n",
       "      <td>Catani, Leonardo</td>\n",
       "    </tr>\n",
       "    <tr>\n",
       "      <th>2</th>\n",
       "      <td>12080897</td>\n",
       "      <td>Netherlands</td>\n",
       "      <td>Stuurman, Roland</td>\n",
       "    </tr>\n",
       "    <tr>\n",
       "      <th>3</th>\n",
       "      <td>12073579</td>\n",
       "      <td>Spain</td>\n",
       "      <td>Bouzas Maneiro, Jessica</td>\n",
       "    </tr>\n",
       "    <tr>\n",
       "      <th>4</th>\n",
       "      <td>12076837</td>\n",
       "      <td>Philippines</td>\n",
       "      <td>Lim, Alberto</td>\n",
       "    </tr>\n",
       "  </tbody>\n",
       "</table>\n",
       "</div>"
      ],
      "text/plain": [
       "   match_id      country                full_name\n",
       "0  12080595        Italy        Caruso, Salvatore\n",
       "1  12080174        Italy         Catani, Leonardo\n",
       "2  12080897  Netherlands         Stuurman, Roland\n",
       "3  12073579        Spain  Bouzas Maneiro, Jessica\n",
       "4  12076837  Philippines             Lim, Alberto"
      ]
     },
     "execution_count": 5,
     "metadata": {},
     "output_type": "execute_result"
    }
   ],
   "source": [
    "# Combine dataframes from home and away teams into one\n",
    "df_home= pd.concat(df_home_list, ignore_index=True)\n",
    "df_away= pd.concat(df_away_list, ignore_index=True)\n",
    "df_all_players= pd.concat([df_home, df_away], ignore_index=True)\n",
    "df_all_players.head()"
   ]
  },
  {
   "cell_type": "code",
   "execution_count": 6,
   "id": "ce7db300",
   "metadata": {},
   "outputs": [
    {
     "name": "stdout",
     "output_type": "stream",
     "text": [
      "distinct countries: 101\n",
      "missing countries: 14\n"
     ]
    }
   ],
   "source": [
    "# Calculate and print number of unique countries and missing values\n",
    "distinct_countries= df_all_players['country'].dropna().unique()\n",
    "print(f'distinct countries: {len(distinct_countries)}')\n",
    "\n",
    "missing_countries= df_all_players['country'].isna().sum()\n",
    "print(f'missing countries: {missing_countries}')"
   ]
  },
  {
   "cell_type": "code",
   "execution_count": 7,
   "id": "80f37a0f",
   "metadata": {},
   "outputs": [
    {
     "data": {
      "image/png": "[encoded data removed]",
      "text/plain": [
       "<Figure size 1000x600 with 1 Axes>"
      ]
     },
     "metadata": {},
     "output_type": "display_data"
    }
   ],
   "source": [
    "import matplotlib.pyplot as plt\n",
    "\n",
    "# Get first available users full_name column\n",
    "id_col = next((col for col in ['full_name'] if col in df_all_players.columns), None)\n",
    "unique_players = df_all_players.drop_duplicates(id_col)\n",
    "\n",
    "# Count and plot\n",
    "country_counts = unique_players['country'].value_counts()\n",
    "plt.figure(figsize=(10,6))\n",
    "ax = country_counts.head(5).plot(kind='barh', color='steelblue')\n",
    "\n",
    "# Formatting\n",
    "plt.title(f'Top 5 Countries by {\"Unique\" if id_col else \"\"} Players')\n",
    "plt.xlabel('Count')\n",
    "plt.gca().invert_yaxis()\n",
    "[ax.text(v, i, f\"{v:,}\", va='center') for i, v in enumerate(country_counts.head(5))]\n",
    "\n",
    "plt.tight_layout()\n",
    "plt.savefig('../data/output/figures/img15.png')\n",
    "plt.show()"
   ]
  },
  {
   "cell_type": "code",
   "execution_count": 8,
   "id": "b48a0bbc",
   "metadata": {},
   "outputs": [
    {
     "name": "stdout",
     "output_type": "stream",
     "text": [
      "Top 5 countries contain 33.7% of all players\n",
      "Gini coefficient of player distribution: 0.037\n"
     ]
    }
   ],
   "source": [
    "top5_percentage = country_counts.head(5).sum()/country_counts.sum()*100\n",
    "print(f\"Top 5 countries contain {top5_percentage:.1f}% of all players\")\n",
    "\n",
    "gini = country_counts.pow(2).sum()/(country_counts.sum()**2)\n",
    "print(f\"Gini coefficient of player distribution: {gini:.3f}\")"
   ]
  }
 ],
 "metadata": {
  "kernelspec": {
   "display_name": ".venv",
   "language": "python",
   "name": "python3"
  },
  "language_info": {
   "codemirror_mode": {
    "name": "ipython",
    "version": 3
   },
   "file_extension": ".py",
   "mimetype": "text/x-python",
   "name": "python",
   "nbconvert_exporter": "python",
   "pygments_lexer": "ipython3",
   "version": "3.12.3"
  }
 },
 "nbformat": 4,
 "nbformat_minor": 5
}
