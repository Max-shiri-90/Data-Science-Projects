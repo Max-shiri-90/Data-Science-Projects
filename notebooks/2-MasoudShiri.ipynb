{
 "cells": [
  {
   "cell_type": "markdown",
   "id": "9ff1c407",
   "metadata": {},
   "source": [
    "## 2 - What is the average height of the players?"
   ]
  },
  {
   "cell_type": "code",
   "execution_count": 4,
   "id": "eaa293fa",
   "metadata": {},
   "outputs": [],
   "source": [
    "from glob import glob\n",
    "import pandas as pd\n",
    "import matplotlib.pyplot as plt\n",
    "import matplotlib.patches as mpatches\n",
    "import seaborn as sns\n",
    "\n",
    "# Load all team parquet files\n",
    "home_files = glob('../data/raw/*/home_team_[0-9]*.parquet')\n",
    "away_files = glob('../data/raw/*/away_team_[0-9]*.parquet')"
   ]
  },
  {
   "cell_type": "code",
   "execution_count": 5,
   "id": "c695ec6b",
   "metadata": {},
   "outputs": [
    {
     "data": {
      "text/html": [
       "<div>\n",
       "<style scoped>\n",
       "    .dataframe tbody tr th:only-of-type {\n",
       "        vertical-align: middle;\n",
       "    }\n",
       "\n",
       "    .dataframe tbody tr th {\n",
       "        vertical-align: top;\n",
       "    }\n",
       "\n",
       "    .dataframe thead th {\n",
       "        text-align: right;\n",
       "    }\n",
       "</style>\n",
       "<table border=\"1\" class=\"dataframe\">\n",
       "  <thead>\n",
       "    <tr style=\"text-align: right;\">\n",
       "      <th></th>\n",
       "      <th>match_id</th>\n",
       "      <th>full_name</th>\n",
       "      <th>height</th>\n",
       "      <th>gender</th>\n",
       "    </tr>\n",
       "  </thead>\n",
       "  <tbody>\n",
       "    <tr>\n",
       "      <th>0</th>\n",
       "      <td>12080595</td>\n",
       "      <td>Caruso, Salvatore</td>\n",
       "      <td>1.85</td>\n",
       "      <td>M</td>\n",
       "    </tr>\n",
       "    <tr>\n",
       "      <th>1</th>\n",
       "      <td>12080174</td>\n",
       "      <td>Catani, Leonardo</td>\n",
       "      <td>1.91</td>\n",
       "      <td>M</td>\n",
       "    </tr>\n",
       "    <tr>\n",
       "      <th>2</th>\n",
       "      <td>12076846</td>\n",
       "      <td>Dong, Jiayang</td>\n",
       "      <td>1.78</td>\n",
       "      <td>M</td>\n",
       "    </tr>\n",
       "    <tr>\n",
       "      <th>3</th>\n",
       "      <td>12078716</td>\n",
       "      <td>Kovacevic, Aleksandar</td>\n",
       "      <td>1.83</td>\n",
       "      <td>M</td>\n",
       "    </tr>\n",
       "    <tr>\n",
       "      <th>4</th>\n",
       "      <td>12076932</td>\n",
       "      <td>Muller, Alexandre</td>\n",
       "      <td>1.83</td>\n",
       "      <td>M</td>\n",
       "    </tr>\n",
       "  </tbody>\n",
       "</table>\n",
       "</div>"
      ],
      "text/plain": [
       "   match_id              full_name  height gender\n",
       "0  12080595      Caruso, Salvatore    1.85      M\n",
       "1  12080174       Catani, Leonardo    1.91      M\n",
       "2  12076846          Dong, Jiayang    1.78      M\n",
       "3  12078716  Kovacevic, Aleksandar    1.83      M\n",
       "4  12076932      Muller, Alexandre    1.83      M"
      ]
     },
     "execution_count": 5,
     "metadata": {},
     "output_type": "execute_result"
    }
   ],
   "source": [
    "# Load and clean home player data\n",
    "df_home = [pd.read_parquet(f, columns=['match_id', 'full_name', 'height', 'gender']) for f in home_files]\n",
    "df_home_cleaned = [df.dropna(subset=['full_name', 'height', 'gender']) for df in df_home]\n",
    "df_home_heights = pd.concat([df for df in df_home_cleaned if not df.empty], ignore_index=True)\n",
    "df_home_heights.head()"
   ]
  },
  {
   "cell_type": "code",
   "execution_count": 6,
   "id": "60267a0b",
   "metadata": {},
   "outputs": [
    {
     "data": {
      "text/html": [
       "<div>\n",
       "<style scoped>\n",
       "    .dataframe tbody tr th:only-of-type {\n",
       "        vertical-align: middle;\n",
       "    }\n",
       "\n",
       "    .dataframe tbody tr th {\n",
       "        vertical-align: top;\n",
       "    }\n",
       "\n",
       "    .dataframe thead th {\n",
       "        text-align: right;\n",
       "    }\n",
       "</style>\n",
       "<table border=\"1\" class=\"dataframe\">\n",
       "  <thead>\n",
       "    <tr style=\"text-align: right;\">\n",
       "      <th></th>\n",
       "      <th>match_id</th>\n",
       "      <th>full_name</th>\n",
       "      <th>height</th>\n",
       "      <th>gender</th>\n",
       "    </tr>\n",
       "  </thead>\n",
       "  <tbody>\n",
       "    <tr>\n",
       "      <th>0</th>\n",
       "      <td>12080893</td>\n",
       "      <td>Seateun, Nathan</td>\n",
       "      <td>1.80</td>\n",
       "      <td>M</td>\n",
       "    </tr>\n",
       "    <tr>\n",
       "      <th>1</th>\n",
       "      <td>12078780</td>\n",
       "      <td>Kikuchi, Yuta</td>\n",
       "      <td>1.73</td>\n",
       "      <td>M</td>\n",
       "    </tr>\n",
       "    <tr>\n",
       "      <th>2</th>\n",
       "      <td>12077807</td>\n",
       "      <td>Diez, Steven</td>\n",
       "      <td>1.75</td>\n",
       "      <td>M</td>\n",
       "    </tr>\n",
       "    <tr>\n",
       "      <th>3</th>\n",
       "      <td>12076723</td>\n",
       "      <td>Grenier, Hugo</td>\n",
       "      <td>1.96</td>\n",
       "      <td>M</td>\n",
       "    </tr>\n",
       "    <tr>\n",
       "      <th>4</th>\n",
       "      <td>12049638</td>\n",
       "      <td>de Minaur, Alex</td>\n",
       "      <td>1.83</td>\n",
       "      <td>M</td>\n",
       "    </tr>\n",
       "  </tbody>\n",
       "</table>\n",
       "</div>"
      ],
      "text/plain": [
       "   match_id        full_name  height gender\n",
       "0  12080893  Seateun, Nathan    1.80      M\n",
       "1  12078780    Kikuchi, Yuta    1.73      M\n",
       "2  12077807     Diez, Steven    1.75      M\n",
       "3  12076723    Grenier, Hugo    1.96      M\n",
       "4  12049638  de Minaur, Alex    1.83      M"
      ]
     },
     "execution_count": 6,
     "metadata": {},
     "output_type": "execute_result"
    }
   ],
   "source": [
    "# Load and clean away player data\n",
    "df_away = [pd.read_parquet(f, columns=['match_id', 'full_name', 'height', 'gender']) for f in away_files]\n",
    "df_away_cleaned = [df.dropna(subset=['full_name', 'height', 'gender']) for df in df_away]\n",
    "df_away_heights = pd.concat([df for df in df_away_cleaned if not df.empty], ignore_index=True)\n",
    "df_away_heights.head()"
   ]
  },
  {
   "cell_type": "code",
   "execution_count": 7,
   "id": "96a11265",
   "metadata": {},
   "outputs": [
    {
     "data": {
      "text/html": [
       "<div>\n",
       "<style scoped>\n",
       "    .dataframe tbody tr th:only-of-type {\n",
       "        vertical-align: middle;\n",
       "    }\n",
       "\n",
       "    .dataframe tbody tr th {\n",
       "        vertical-align: top;\n",
       "    }\n",
       "\n",
       "    .dataframe thead th {\n",
       "        text-align: right;\n",
       "    }\n",
       "</style>\n",
       "<table border=\"1\" class=\"dataframe\">\n",
       "  <thead>\n",
       "    <tr style=\"text-align: right;\">\n",
       "      <th></th>\n",
       "      <th>match_id</th>\n",
       "      <th>full_name</th>\n",
       "      <th>height</th>\n",
       "      <th>gender</th>\n",
       "    </tr>\n",
       "  </thead>\n",
       "  <tbody>\n",
       "    <tr>\n",
       "      <th>0</th>\n",
       "      <td>12080595</td>\n",
       "      <td>Caruso, Salvatore</td>\n",
       "      <td>1.85</td>\n",
       "      <td>M</td>\n",
       "    </tr>\n",
       "    <tr>\n",
       "      <th>1</th>\n",
       "      <td>12080174</td>\n",
       "      <td>Catani, Leonardo</td>\n",
       "      <td>1.91</td>\n",
       "      <td>M</td>\n",
       "    </tr>\n",
       "    <tr>\n",
       "      <th>2</th>\n",
       "      <td>12076846</td>\n",
       "      <td>Dong, Jiayang</td>\n",
       "      <td>1.78</td>\n",
       "      <td>M</td>\n",
       "    </tr>\n",
       "    <tr>\n",
       "      <th>3</th>\n",
       "      <td>12078716</td>\n",
       "      <td>Kovacevic, Aleksandar</td>\n",
       "      <td>1.83</td>\n",
       "      <td>M</td>\n",
       "    </tr>\n",
       "    <tr>\n",
       "      <th>4</th>\n",
       "      <td>12076932</td>\n",
       "      <td>Muller, Alexandre</td>\n",
       "      <td>1.83</td>\n",
       "      <td>M</td>\n",
       "    </tr>\n",
       "  </tbody>\n",
       "</table>\n",
       "</div>"
      ],
      "text/plain": [
       "   match_id              full_name  height gender\n",
       "0  12080595      Caruso, Salvatore    1.85      M\n",
       "1  12080174       Catani, Leonardo    1.91      M\n",
       "2  12076846          Dong, Jiayang    1.78      M\n",
       "3  12078716  Kovacevic, Aleksandar    1.83      M\n",
       "4  12076932      Muller, Alexandre    1.83      M"
      ]
     },
     "execution_count": 7,
     "metadata": {},
     "output_type": "execute_result"
    }
   ],
   "source": [
    "# Combine and deduplicate player data\n",
    "df_all_heights = pd.concat([df_home_heights, df_away_heights], axis=0).drop_duplicates('full_name')\n",
    "df_all_heights.head()"
   ]
  },
  {
   "cell_type": "code",
   "execution_count": 8,
   "id": "831c3225",
   "metadata": {},
   "outputs": [],
   "source": [
    "# Ensure height is float and gender is uppercase\n",
    "df_all_heights['height'] = df_all_heights['height'].astype(float)\n",
    "df_all_heights['gender'] = df_all_heights['gender'].str.upper()"
   ]
  },
  {
   "cell_type": "code",
   "execution_count": 9,
   "id": "5f289281",
   "metadata": {},
   "outputs": [
    {
     "name": "stdout",
     "output_type": "stream",
     "text": [
      "\n",
      "Height Analysis Summary by Gender:\n",
      "========================================\n",
      "Average height (All):   1.82 cm\n",
      "Average height (Male):  1.84 cm\n",
      "Average height (Female):1.73 cm\n",
      "Max height:             2.08 cm\n",
      "Min height:             1.57 cm\n"
     ]
    }
   ],
   "source": [
    "# Compute statistics\n",
    "average_all = df_all_heights['height'].mean()\n",
    "average_male = df_all_heights[df_all_heights['gender'] == 'M']['height'].mean()\n",
    "average_female = df_all_heights[df_all_heights['gender'] == 'F']['height'].mean()\n",
    "max_height = df_all_heights['height'].max()\n",
    "min_height = df_all_heights['height'].min()\n",
    "\n",
    "# Analysis summary\n",
    "print(\"\\nHeight Analysis Summary by Gender:\")\n",
    "print(\"=\" * 40)\n",
    "print(f\"Average height (All):   {average_all:.2f} cm\")\n",
    "print(f\"Average height (Male):  {average_male:.2f} cm\")\n",
    "print(f\"Average height (Female):{average_female:.2f} cm\")\n",
    "print(f\"Max height:             {max_height:.2f} cm\")\n",
    "print(f\"Min height:             {min_height:.2f} cm\")"
   ]
  },
  {
   "cell_type": "code",
   "execution_count": 11,
   "id": "5a009861",
   "metadata": {},
   "outputs": [
    {
     "data": {
      "image/png": "[encoded data removed]",
      "text/plain": [
       "<Figure size 1000x600 with 1 Axes>"
      ]
     },
     "metadata": {},
     "output_type": "display_data"
    }
   ],
   "source": [
    "# Plot\n",
    "plt.figure(figsize=(10, 6))\n",
    "sns.histplot(\n",
    "    data=df_all_heights,\n",
    "    x='height',\n",
    "    hue='gender',\n",
    "    bins=10,\n",
    "    palette=['#1f77b4', '#ff7f0e'],  # Blue for male, orange for female\n",
    "    alpha=0.7,\n",
    "    multiple='dodge',\n",
    "    stat='count',\n",
    "    shrink=0.8\n",
    ")\n",
    "\n",
    "plt.title('Distribution of Player Heights by Gender (Side-by-Side Bars)')\n",
    "plt.xlabel('Height (cm)')\n",
    "plt.ylabel('Number of Players')\n",
    "\n",
    "# Draw vertical lines for averages\n",
    "line_overall = plt.axvline(average_all, color='black', linestyle='--', label=f'Overall Avg: {average_all:.2f} cm')\n",
    "line_male = plt.axvline(average_male, color='blue', linestyle='--', label=f'Male Avg: {average_male:.2f} cm')\n",
    "line_female = plt.axvline(average_female, color='orange', linestyle='--', label=f'Female Avg: {average_female:.2f} cm')\n",
    "\n",
    "# Custom legend patches for bars\n",
    "male_patch = mpatches.Patch(color='#1f77b4', label='Male Players')\n",
    "female_patch = mpatches.Patch(color='#ff7f0e', label='Female Players')\n",
    "\n",
    "# Combine all legend elements\n",
    "plt.legend(handles=[male_patch, female_patch, line_overall, line_male, line_female], loc='best')\n",
    "\n",
    "plt.tight_layout()\n",
    "plt.savefig('../data/output/figures/img2.png')\n",
    "plt.show()"
   ]
  }
 ],
 "metadata": {
  "kernelspec": {
   "display_name": ".venv",
   "language": "python",
   "name": "python3"
  },
  "language_info": {
   "codemirror_mode": {
    "name": "ipython",
    "version": 3
   },
   "file_extension": ".py",
   "mimetype": "text/x-python",
   "name": "python",
   "nbconvert_exporter": "python",
   "pygments_lexer": "ipython3",
   "version": "3.12.3"
  }
 },
 "nbformat": 4,
 "nbformat_minor": 5
}
