{
 "cells": [
  {
   "cell_type": "markdown",
   "id": "3b6e5478",
   "metadata": {},
   "source": [
    "## 6 - Which country has produced the most successful tennis players? "
   ]
  },
  {
   "cell_type": "code",
   "execution_count": 1,
   "id": "12760a87",
   "metadata": {},
   "outputs": [],
   "source": [
    "from glob import glob\n",
    "import pandas as pd\n",
    "import seaborn as sns\n",
    "import matplotlib.pyplot as plt\n",
    "\n",
    "event_files = glob('../data/raw/*/event_[0-9]*.parquet')\n",
    "home_files = glob('../data/raw/*/home_team_[0-9]*.parquet')\n",
    "away_files = glob('../data/raw/*/away_team_[0-9]*.parquet')"
   ]
  },
  {
   "cell_type": "code",
   "execution_count": 2,
   "id": "24eb0bc5",
   "metadata": {},
   "outputs": [
    {
     "data": {
      "text/html": [
       "<div>\n",
       "<style scoped>\n",
       "    .dataframe tbody tr th:only-of-type {\n",
       "        vertical-align: middle;\n",
       "    }\n",
       "\n",
       "    .dataframe tbody tr th {\n",
       "        vertical-align: top;\n",
       "    }\n",
       "\n",
       "    .dataframe thead th {\n",
       "        text-align: right;\n",
       "    }\n",
       "</style>\n",
       "<table border=\"1\" class=\"dataframe\">\n",
       "  <thead>\n",
       "    <tr style=\"text-align: right;\">\n",
       "      <th></th>\n",
       "      <th>match_id</th>\n",
       "      <th>winner_code</th>\n",
       "    </tr>\n",
       "  </thead>\n",
       "  <tbody>\n",
       "    <tr>\n",
       "      <th>0</th>\n",
       "      <td>12075272</td>\n",
       "      <td>2</td>\n",
       "    </tr>\n",
       "    <tr>\n",
       "      <th>1</th>\n",
       "      <td>12076290</td>\n",
       "      <td>1</td>\n",
       "    </tr>\n",
       "    <tr>\n",
       "      <th>2</th>\n",
       "      <td>12077080</td>\n",
       "      <td>1</td>\n",
       "    </tr>\n",
       "    <tr>\n",
       "      <th>3</th>\n",
       "      <td>12077399</td>\n",
       "      <td>2</td>\n",
       "    </tr>\n",
       "    <tr>\n",
       "      <th>4</th>\n",
       "      <td>12076858</td>\n",
       "      <td>1</td>\n",
       "    </tr>\n",
       "  </tbody>\n",
       "</table>\n",
       "</div>"
      ],
      "text/plain": [
       "   match_id winner_code\n",
       "0  12075272           2\n",
       "1  12076290           1\n",
       "2  12077080           1\n",
       "3  12077399           2\n",
       "4  12076858           1"
      ]
     },
     "execution_count": 2,
     "metadata": {},
     "output_type": "execute_result"
    }
   ],
   "source": [
    "# Load events data\n",
    "df_events = pd.concat([pd.read_parquet(f, columns=['match_id', 'winner_code']) for f in event_files], ignore_index=True)\n",
    "df_events.head()"
   ]
  },
  {
   "cell_type": "code",
   "execution_count": 3,
   "id": "08ce8fb3",
   "metadata": {},
   "outputs": [],
   "source": [
    "# Load home team data\n",
    "df_home = pd.concat([pd.read_parquet(f, columns=['match_id', 'country']) for f in home_files], ignore_index=True)\n",
    "df_home = df_home.rename(columns={'country': 'home_player_country'})\n",
    "\n",
    "# Load away team data\n",
    "df_away = pd.concat([pd.read_parquet(f, columns=['match_id', 'country']) for f in away_files], ignore_index=True)\n",
    "df_away = df_away.rename(columns={'country': 'away_player_country'})"
   ]
  },
  {
   "cell_type": "code",
   "execution_count": 4,
   "id": "4ab5fcd5",
   "metadata": {},
   "outputs": [
    {
     "data": {
      "text/html": [
       "<div>\n",
       "<style scoped>\n",
       "    .dataframe tbody tr th:only-of-type {\n",
       "        vertical-align: middle;\n",
       "    }\n",
       "\n",
       "    .dataframe tbody tr th {\n",
       "        vertical-align: top;\n",
       "    }\n",
       "\n",
       "    .dataframe thead th {\n",
       "        text-align: right;\n",
       "    }\n",
       "</style>\n",
       "<table border=\"1\" class=\"dataframe\">\n",
       "  <thead>\n",
       "    <tr style=\"text-align: right;\">\n",
       "      <th></th>\n",
       "      <th>match_id</th>\n",
       "      <th>winner_code</th>\n",
       "      <th>home_player_country</th>\n",
       "      <th>away_player_country</th>\n",
       "    </tr>\n",
       "  </thead>\n",
       "  <tbody>\n",
       "    <tr>\n",
       "      <th>0</th>\n",
       "      <td>12075272</td>\n",
       "      <td>2</td>\n",
       "      <td>Italy</td>\n",
       "      <td>Argentina</td>\n",
       "    </tr>\n",
       "    <tr>\n",
       "      <th>1</th>\n",
       "      <td>12075272</td>\n",
       "      <td>2</td>\n",
       "      <td>Italy</td>\n",
       "      <td>Argentina</td>\n",
       "    </tr>\n",
       "    <tr>\n",
       "      <th>2</th>\n",
       "      <td>12075272</td>\n",
       "      <td>2</td>\n",
       "      <td>Italy</td>\n",
       "      <td>Argentina</td>\n",
       "    </tr>\n",
       "    <tr>\n",
       "      <th>3</th>\n",
       "      <td>12075272</td>\n",
       "      <td>2</td>\n",
       "      <td>Italy</td>\n",
       "      <td>Argentina</td>\n",
       "    </tr>\n",
       "    <tr>\n",
       "      <th>4</th>\n",
       "      <td>12077080</td>\n",
       "      <td>1</td>\n",
       "      <td>Japan</td>\n",
       "      <td>Poland</td>\n",
       "    </tr>\n",
       "  </tbody>\n",
       "</table>\n",
       "</div>"
      ],
      "text/plain": [
       "   match_id winner_code home_player_country away_player_country\n",
       "0  12075272           2               Italy           Argentina\n",
       "1  12075272           2               Italy           Argentina\n",
       "2  12075272           2               Italy           Argentina\n",
       "3  12075272           2               Italy           Argentina\n",
       "4  12077080           1               Japan              Poland"
      ]
     },
     "execution_count": 4,
     "metadata": {},
     "output_type": "execute_result"
    }
   ],
   "source": [
    "# Merge all data together\n",
    "dfs = df_events.merge(df_home, on='match_id').merge(df_away, on='match_id')\n",
    "dfs.head()"
   ]
  },
  {
   "cell_type": "code",
   "execution_count": 5,
   "id": "7148e4dc",
   "metadata": {},
   "outputs": [
    {
     "data": {
      "text/html": [
       "<div>\n",
       "<style scoped>\n",
       "    .dataframe tbody tr th:only-of-type {\n",
       "        vertical-align: middle;\n",
       "    }\n",
       "\n",
       "    .dataframe tbody tr th {\n",
       "        vertical-align: top;\n",
       "    }\n",
       "\n",
       "    .dataframe thead th {\n",
       "        text-align: right;\n",
       "    }\n",
       "</style>\n",
       "<table border=\"1\" class=\"dataframe\">\n",
       "  <thead>\n",
       "    <tr style=\"text-align: right;\">\n",
       "      <th></th>\n",
       "      <th>match_id</th>\n",
       "      <th>winner_code</th>\n",
       "      <th>home_player_country</th>\n",
       "      <th>away_player_country</th>\n",
       "      <th>winer_player_country</th>\n",
       "    </tr>\n",
       "  </thead>\n",
       "  <tbody>\n",
       "    <tr>\n",
       "      <th>0</th>\n",
       "      <td>12075272</td>\n",
       "      <td>2</td>\n",
       "      <td>Italy</td>\n",
       "      <td>Argentina</td>\n",
       "      <td>Argentina</td>\n",
       "    </tr>\n",
       "    <tr>\n",
       "      <th>4</th>\n",
       "      <td>12077080</td>\n",
       "      <td>1</td>\n",
       "      <td>Japan</td>\n",
       "      <td>Poland</td>\n",
       "      <td>Japan</td>\n",
       "    </tr>\n",
       "    <tr>\n",
       "      <th>12</th>\n",
       "      <td>12077281</td>\n",
       "      <td>2</td>\n",
       "      <td>Germany</td>\n",
       "      <td>Ireland</td>\n",
       "      <td>Ireland</td>\n",
       "    </tr>\n",
       "    <tr>\n",
       "      <th>21</th>\n",
       "      <td>12075955</td>\n",
       "      <td>1</td>\n",
       "      <td>Japan</td>\n",
       "      <td>Mexico</td>\n",
       "      <td>Japan</td>\n",
       "    </tr>\n",
       "    <tr>\n",
       "      <th>25</th>\n",
       "      <td>12049571</td>\n",
       "      <td>2</td>\n",
       "      <td>Chile</td>\n",
       "      <td>Argentina</td>\n",
       "      <td>Argentina</td>\n",
       "    </tr>\n",
       "  </tbody>\n",
       "</table>\n",
       "</div>"
      ],
      "text/plain": [
       "    match_id winner_code home_player_country away_player_country  \\\n",
       "0   12075272           2               Italy           Argentina   \n",
       "4   12077080           1               Japan              Poland   \n",
       "12  12077281           2             Germany             Ireland   \n",
       "21  12075955           1               Japan              Mexico   \n",
       "25  12049571           2               Chile           Argentina   \n",
       "\n",
       "   winer_player_country  \n",
       "0             Argentina  \n",
       "4                 Japan  \n",
       "12              Ireland  \n",
       "21                Japan  \n",
       "25            Argentina  "
      ]
     },
     "execution_count": 5,
     "metadata": {},
     "output_type": "execute_result"
    }
   ],
   "source": [
    "# Create a column for the winning player Nationality (Country)\n",
    "dfs['winer_player_country'] = dfs.apply(lambda x: x['home_player_country'] if x['winner_code'] == 1 else x['away_player_country'], axis=1)\n",
    "\n",
    "# Drop duplicate match_id rows && NaN\n",
    "dfs = dfs.drop_duplicates(subset='match_id').dropna()\n",
    "dfs.head()"
   ]
  },
  {
   "cell_type": "code",
   "execution_count": 6,
   "id": "00cd5947",
   "metadata": {},
   "outputs": [
    {
     "data": {
      "text/html": [
       "<div>\n",
       "<style scoped>\n",
       "    .dataframe tbody tr th:only-of-type {\n",
       "        vertical-align: middle;\n",
       "    }\n",
       "\n",
       "    .dataframe tbody tr th {\n",
       "        vertical-align: top;\n",
       "    }\n",
       "\n",
       "    .dataframe thead th {\n",
       "        text-align: right;\n",
       "    }\n",
       "</style>\n",
       "<table border=\"1\" class=\"dataframe\">\n",
       "  <thead>\n",
       "    <tr style=\"text-align: right;\">\n",
       "      <th></th>\n",
       "      <th>winer_player_country</th>\n",
       "      <th>count</th>\n",
       "    </tr>\n",
       "  </thead>\n",
       "  <tbody>\n",
       "    <tr>\n",
       "      <th>0</th>\n",
       "      <td>France</td>\n",
       "      <td>847</td>\n",
       "    </tr>\n",
       "    <tr>\n",
       "      <th>1</th>\n",
       "      <td>USA</td>\n",
       "      <td>771</td>\n",
       "    </tr>\n",
       "    <tr>\n",
       "      <th>2</th>\n",
       "      <td>Italy</td>\n",
       "      <td>667</td>\n",
       "    </tr>\n",
       "    <tr>\n",
       "      <th>3</th>\n",
       "      <td>Russia</td>\n",
       "      <td>492</td>\n",
       "    </tr>\n",
       "    <tr>\n",
       "      <th>4</th>\n",
       "      <td>Germany</td>\n",
       "      <td>424</td>\n",
       "    </tr>\n",
       "  </tbody>\n",
       "</table>\n",
       "</div>"
      ],
      "text/plain": [
       "  winer_player_country  count\n",
       "0               France    847\n",
       "1                  USA    771\n",
       "2                Italy    667\n",
       "3               Russia    492\n",
       "4              Germany    424"
      ]
     },
     "execution_count": 6,
     "metadata": {},
     "output_type": "execute_result"
    }
   ],
   "source": [
    "# Calculate win count per player\n",
    "country_win_counts = dfs['winer_player_country'].value_counts().reset_index()\n",
    "country_win_counts.head()"
   ]
  },
  {
   "cell_type": "code",
   "execution_count": 7,
   "id": "862cc4d4",
   "metadata": {},
   "outputs": [
    {
     "name": "stdout",
     "output_type": "stream",
     "text": [
      "\n",
      "The counntry that produced the most succesfull tennis players: \"France\"\n",
      "France has a total number of \"847\" wins in two monthes altogether\n"
     ]
    }
   ],
   "source": [
    "# Get the top winner\n",
    "top_winner_country = country_win_counts.iloc[0]\n",
    "\n",
    "print(f\"\\nThe counntry that produced the most succesfull tennis players: \\\"{top_winner_country['winer_player_country']}\\\"\")\n",
    "print(f\"{top_winner_country['winer_player_country']} has a total number of \\\"{top_winner_country['count']}\\\" wins in two monthes altogether\")"
   ]
  },
  {
   "cell_type": "code",
   "execution_count": 8,
   "id": "55c74a93",
   "metadata": {},
   "outputs": [
    {
     "data": {
      "image/png": "[encoded data removed]",
      "text/plain": [
       "<Figure size 800x500 with 1 Axes>"
      ]
     },
     "metadata": {},
     "output_type": "display_data"
    }
   ],
   "source": [
    "# Visualization\n",
    "top_5 = country_win_counts.sort_values('count', ascending=False).head(5).reset_index(drop=True)\n",
    "top_5['highlight'] = ['Top'] + ['Other'] * (len(top_5) - 1)\n",
    "palette = {'Top': '#e74c3c', 'Other': '#bdc3c7'}\n",
    "\n",
    "fig, ax = plt.subplots(figsize=(8,5))\n",
    "\n",
    "sns.barplot(\n",
    "    data=top_5,\n",
    "    y='winer_player_country',\n",
    "    x='count',\n",
    "    hue='highlight',\n",
    "    palette=palette,\n",
    "    legend=False,\n",
    ")\n",
    "\n",
    "# Hide spines\n",
    "for spine in ['right', 'left', 'top']:\n",
    "    ax.spines[spine].set_visible(False)\n",
    "\n",
    "# Add count label for top country only\n",
    "ax.text(\n",
    "    top_5.at[0, 'count'] + 1, 0,\n",
    "    f\"{top_5.at[0, 'count']:,}\",\n",
    "    va='center', ha='left',\n",
    "    fontsize=16, fontfamily='monospace',\n",
    "    color=palette['Top']\n",
    ")\n",
    "\n",
    "# Titles and labels\n",
    "ax.set_title(\"Top 5 Countries by Tennis Match Wins\", loc=\"left\", weight=\"bold\", color=\"gray\", fontsize=16)\n",
    "ax.set_xlabel(\"Number of Wins\", weight=\"bold\", color=\"gray\", loc=\"left\", fontsize=14)\n",
    "ax.set_ylabel(\"Country\", weight=\"bold\", color=\"gray\", fontsize=14)\n",
    "\n",
    "# Ticks and grid\n",
    "ax.tick_params(axis=\"x\", colors=\"gray\", labelsize=\"12\")\n",
    "ax.tick_params(axis=\"y\", colors=\"gray\", labelsize=\"12\")\n",
    "ax.grid(axis=\"x\", linestyle=\"dashed\")\n",
    "\n",
    "plt.tight_layout()\n",
    "plt.savefig('../data/output/figures/img6.png')\n",
    "plt.show()"
   ]
  }
 ],
 "metadata": {
  "kernelspec": {
   "display_name": ".venv",
   "language": "python",
   "name": "python3"
  },
  "language_info": {
   "codemirror_mode": {
    "name": "ipython",
    "version": 3
   },
   "file_extension": ".py",
   "mimetype": "text/x-python",
   "name": "python",
   "nbconvert_exporter": "python",
   "pygments_lexer": "ipython3",
   "version": "3.12.3"
  }
 },
 "nbformat": 4,
 "nbformat_minor": 5
}
