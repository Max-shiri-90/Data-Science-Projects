{
 "cells": [
  {
   "cell_type": "markdown",
   "id": "2936050c",
   "metadata": {},
   "source": [
    "## 13. What is the distribution of left-handed versus right-handed players?"
   ]
  },
  {
   "cell_type": "code",
   "execution_count": 1,
   "id": "a7269ed1",
   "metadata": {},
   "outputs": [],
   "source": [
    "import pandas as pd\n",
    "import glob\n",
    "import numpy as np\n",
    "import matplotlib.pyplot as plt\n",
    "from concurrent.futures import ThreadPoolExecutor"
   ]
  },
  {
   "cell_type": "code",
   "execution_count": 2,
   "id": "ef74a1ef",
   "metadata": {},
   "outputs": [],
   "source": [
    "# Find parquet files for home and away teams\n",
    "home_files= glob.glob(r'../data/raw/*/home_team_[0-9]*.parquet')\n",
    "away_files= glob.glob(r'../data/raw/*/away_team_[0-9]*.parquet')"
   ]
  },
  {
   "cell_type": "code",
   "execution_count": 3,
   "id": "b83c6140",
   "metadata": {},
   "outputs": [],
   "source": [
    "# Function to read 'plays' column from parquet file\n",
    "def read_parquet_file(path):\n",
    "    return pd.read_parquet(path, columns=['plays'], engine='pyarrow')"
   ]
  },
  {
   "cell_type": "code",
   "execution_count": 4,
   "id": "2242da52",
   "metadata": {},
   "outputs": [],
   "source": [
    "# Read home and away files in parallel using 4 threads each\n",
    "with ThreadPoolExecutor(max_workers=4) as executor:\n",
    "    df_home_list= list(executor.map(read_parquet_file, home_files))\n",
    "\n",
    "with ThreadPoolExecutor(max_workers=4) as executor:\n",
    "    df_away_list= list(executor.map(read_parquet_file, away_files))"
   ]
  },
  {
   "cell_type": "code",
   "execution_count": 5,
   "id": "112c4798",
   "metadata": {},
   "outputs": [
    {
     "data": {
      "text/html": [
       "<div>\n",
       "<style scoped>\n",
       "    .dataframe tbody tr th:only-of-type {\n",
       "        vertical-align: middle;\n",
       "    }\n",
       "\n",
       "    .dataframe tbody tr th {\n",
       "        vertical-align: top;\n",
       "    }\n",
       "\n",
       "    .dataframe thead th {\n",
       "        text-align: right;\n",
       "    }\n",
       "</style>\n",
       "<table border=\"1\" class=\"dataframe\">\n",
       "  <thead>\n",
       "    <tr style=\"text-align: right;\">\n",
       "      <th></th>\n",
       "      <th>plays</th>\n",
       "    </tr>\n",
       "  </thead>\n",
       "  <tbody>\n",
       "    <tr>\n",
       "      <th>0</th>\n",
       "      <td>right-handed</td>\n",
       "    </tr>\n",
       "    <tr>\n",
       "      <th>1</th>\n",
       "      <td>None</td>\n",
       "    </tr>\n",
       "    <tr>\n",
       "      <th>2</th>\n",
       "      <td>None</td>\n",
       "    </tr>\n",
       "    <tr>\n",
       "      <th>3</th>\n",
       "      <td>right-handed</td>\n",
       "    </tr>\n",
       "    <tr>\n",
       "      <th>4</th>\n",
       "      <td>None</td>\n",
       "    </tr>\n",
       "  </tbody>\n",
       "</table>\n",
       "</div>"
      ],
      "text/plain": [
       "          plays\n",
       "0  right-handed\n",
       "1          None\n",
       "2          None\n",
       "3  right-handed\n",
       "4          None"
      ]
     },
     "execution_count": 5,
     "metadata": {},
     "output_type": "execute_result"
    }
   ],
   "source": [
    "# Combine dataframes from home and away teams into one\n",
    "df_home= pd.concat(df_home_list, ignore_index=True)\n",
    "df_away= pd.concat(df_away_list, ignore_index=True)\n",
    "df_all_players= pd.concat([df_home, df_away], ignore_index=True)\n",
    "df_all_players.head()"
   ]
  },
  {
   "cell_type": "code",
   "execution_count": 6,
   "id": "652d782d",
   "metadata": {},
   "outputs": [
    {
     "data": {
      "text/plain": [
       "plays\n",
       "Not Mentioned    25370\n",
       "right-handed     21600\n",
       "left-handed       2843\n",
       "Name: count, dtype: int64"
      ]
     },
     "execution_count": 6,
     "metadata": {},
     "output_type": "execute_result"
    }
   ],
   "source": [
    "# Fill missing 'plays' values and count occurrences\n",
    "df_all_players= df_all_players.fillna('Not Mentioned')\n",
    "df_all_players_plays= df_all_players['plays'].value_counts()\n",
    "df_all_players_plays.head()"
   ]
  },
  {
   "cell_type": "code",
   "execution_count": 7,
   "id": "da962e85",
   "metadata": {},
   "outputs": [
    {
     "name": "stdout",
     "output_type": "stream",
     "text": [
      "right-handed: 43.36%\n",
      "left-handed: 5.71%\n",
      "missing: 50.93%\n"
     ]
    }
   ],
   "source": [
    "# Calculate percentages for each playing hand category\n",
    "total= np.sum(df_all_players_plays)\n",
    "right= df_all_players_plays.get('right-handed', 0)/ total* 100\n",
    "left= df_all_players_plays.get('left-handed', 0)/ total* 100\n",
    "miss= df_all_players_plays.get('Not Mentioned', 0)/ total* 100\n",
    "\n",
    "print(f'right-handed: {right:.2f}%')\n",
    "print(f'left-handed: {left:.2f}%')\n",
    "print(f'missing: {miss:.2f}%')"
   ]
  },
  {
   "cell_type": "code",
   "execution_count": 8,
   "id": "795f9c34",
   "metadata": {},
   "outputs": [
    {
     "name": "stdout",
     "output_type": "stream",
     "text": [
      "Right-handed: 88.4%\n",
      "Left-handed: 11.6%\n"
     ]
    }
   ],
   "source": [
    "# FILTER OUT MISSING DATA\n",
    "df_filtered = df_all_players[df_all_players['plays'] != 'Not Mentioned']  # Drop missing values\n",
    "hand_counts = df_filtered['plays'].value_counts()\n",
    "\n",
    "# Calculate percentages (only for right & left-handed)\n",
    "total_known = hand_counts.sum()\n",
    "right_percent = hand_counts.get('right-handed', 0) / total_known * 100\n",
    "left_percent = hand_counts.get('left-handed', 0) / total_known * 100\n",
    "\n",
    "print(f'Right-handed: {right_percent:.1f}%')\n",
    "print(f'Left-handed: {left_percent:.1f}%')"
   ]
  },
  {
   "cell_type": "code",
   "execution_count": 9,
   "id": "6e82af5a",
   "metadata": {},
   "outputs": [
    {
     "data": {
      "image/png": "[encoded data removed]",
      "text/plain": [
       "<Figure size 600x500 with 1 Axes>"
      ]
     },
     "metadata": {},
     "output_type": "display_data"
    }
   ],
   "source": [
    "# Plotting (exclude missing data)\n",
    "labels = ['Right-handed', 'Left-handed']\n",
    "percentages = [right_percent, left_percent]\n",
    "colors = ['green', 'blue']\n",
    "\n",
    "plt.figure(figsize=(6, 5))\n",
    "bars = plt.bar(labels, percentages, color=colors, alpha=0.7)\n",
    "\n",
    "# Add percentage labels on bars\n",
    "for bar in bars:\n",
    "    height = bar.get_height()\n",
    "    plt.text(bar.get_x() + bar.get_width()/2., height,\n",
    "             f'{height:.1f}%', ha='center', va='bottom')\n",
    "\n",
    "plt.title('Distribution of Playing Hands (Excluding Missing Data)')\n",
    "plt.ylabel('Percentage of Players')\n",
    "plt.ylim(0, 100)\n",
    "plt.tight_layout()\n",
    "plt.savefig('../data/output/figures/img13.png')\n",
    "plt.show()"
   ]
  }
 ],
 "metadata": {
  "kernelspec": {
   "display_name": ".venv",
   "language": "python",
   "name": "python3"
  },
  "language_info": {
   "codemirror_mode": {
    "name": "ipython",
    "version": 3
   },
   "file_extension": ".py",
   "mimetype": "text/x-python",
   "name": "python",
   "nbconvert_exporter": "python",
   "pygments_lexer": "ipython3",
   "version": "3.12.3"
  }
 },
 "nbformat": 4,
 "nbformat_minor": 5
}
