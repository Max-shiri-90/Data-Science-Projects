{
 "cells": [
  {
   "cell_type": "markdown",
   "id": "fa5d361e",
   "metadata": {},
   "source": [
    "## 3 - Which player has the highest number of wins? "
   ]
  },
  {
   "cell_type": "code",
   "execution_count": 2,
   "id": "d60bef2f",
   "metadata": {},
   "outputs": [],
   "source": [
    "from glob import glob\n",
    "import pandas as pd\n",
    "\n",
    "event_files = glob('../data/raw/*/event_[0-9]*.parquet')\n",
    "home_files = glob('../data/raw/*/home_team_[0-9]*.parquet')\n",
    "away_files = glob('../data/raw/*/away_team_[0-9]*.parquet')"
   ]
  },
  {
   "cell_type": "code",
   "execution_count": 3,
   "id": "4c4cfff2",
   "metadata": {},
   "outputs": [
    {
     "data": {
      "text/html": [
       "<div>\n",
       "<style scoped>\n",
       "    .dataframe tbody tr th:only-of-type {\n",
       "        vertical-align: middle;\n",
       "    }\n",
       "\n",
       "    .dataframe tbody tr th {\n",
       "        vertical-align: top;\n",
       "    }\n",
       "\n",
       "    .dataframe thead th {\n",
       "        text-align: right;\n",
       "    }\n",
       "</style>\n",
       "<table border=\"1\" class=\"dataframe\">\n",
       "  <thead>\n",
       "    <tr style=\"text-align: right;\">\n",
       "      <th></th>\n",
       "      <th>match_id</th>\n",
       "      <th>winner_code</th>\n",
       "    </tr>\n",
       "  </thead>\n",
       "  <tbody>\n",
       "    <tr>\n",
       "      <th>0</th>\n",
       "      <td>12075272</td>\n",
       "      <td>2</td>\n",
       "    </tr>\n",
       "    <tr>\n",
       "      <th>0</th>\n",
       "      <td>12076290</td>\n",
       "      <td>1</td>\n",
       "    </tr>\n",
       "    <tr>\n",
       "      <th>0</th>\n",
       "      <td>12077080</td>\n",
       "      <td>1</td>\n",
       "    </tr>\n",
       "    <tr>\n",
       "      <th>0</th>\n",
       "      <td>12077399</td>\n",
       "      <td>2</td>\n",
       "    </tr>\n",
       "    <tr>\n",
       "      <th>0</th>\n",
       "      <td>12076858</td>\n",
       "      <td>1</td>\n",
       "    </tr>\n",
       "  </tbody>\n",
       "</table>\n",
       "</div>"
      ],
      "text/plain": [
       "   match_id winner_code\n",
       "0  12075272           2\n",
       "0  12076290           1\n",
       "0  12077080           1\n",
       "0  12077399           2\n",
       "0  12076858           1"
      ]
     },
     "execution_count": 3,
     "metadata": {},
     "output_type": "execute_result"
    }
   ],
   "source": [
    "# Load events data\n",
    "df_events = pd.concat([pd.read_parquet(f, columns=['match_id', 'winner_code']) for f in event_files])\n",
    "df_events.head()"
   ]
  },
  {
   "cell_type": "code",
   "execution_count": 4,
   "id": "e1b2a699",
   "metadata": {},
   "outputs": [],
   "source": [
    "# Load home teams data\n",
    "df_home = pd.concat([pd.read_parquet(f, columns=['match_id', 'full_name']) for f in home_files])\n",
    "df_home = df_home.rename(columns={'full_name': 'home_player'})\n",
    "\n",
    "# Load away teams data\n",
    "df_away = pd.concat([pd.read_parquet(f, columns=['match_id', 'full_name']) for f in away_files])\n",
    "df_away = df_away.rename(columns={'full_name': 'away_player'})"
   ]
  },
  {
   "cell_type": "code",
   "execution_count": 5,
   "id": "0f67ce26",
   "metadata": {},
   "outputs": [
    {
     "data": {
      "text/html": [
       "<div>\n",
       "<style scoped>\n",
       "    .dataframe tbody tr th:only-of-type {\n",
       "        vertical-align: middle;\n",
       "    }\n",
       "\n",
       "    .dataframe tbody tr th {\n",
       "        vertical-align: top;\n",
       "    }\n",
       "\n",
       "    .dataframe thead th {\n",
       "        text-align: right;\n",
       "    }\n",
       "</style>\n",
       "<table border=\"1\" class=\"dataframe\">\n",
       "  <thead>\n",
       "    <tr style=\"text-align: right;\">\n",
       "      <th></th>\n",
       "      <th>match_id</th>\n",
       "      <th>winner_code</th>\n",
       "      <th>home_player</th>\n",
       "      <th>away_player</th>\n",
       "    </tr>\n",
       "  </thead>\n",
       "  <tbody>\n",
       "    <tr>\n",
       "      <th>0</th>\n",
       "      <td>12075272</td>\n",
       "      <td>2</td>\n",
       "      <td>Darderi, Luciano</td>\n",
       "      <td>Cerundolo, Juan Manuel</td>\n",
       "    </tr>\n",
       "    <tr>\n",
       "      <th>1</th>\n",
       "      <td>12075272</td>\n",
       "      <td>2</td>\n",
       "      <td>Darderi, Luciano</td>\n",
       "      <td>Cerundolo, Juan Manuel</td>\n",
       "    </tr>\n",
       "    <tr>\n",
       "      <th>2</th>\n",
       "      <td>12075272</td>\n",
       "      <td>2</td>\n",
       "      <td>Darderi, Luciano</td>\n",
       "      <td>Cerundolo, Juan Manuel</td>\n",
       "    </tr>\n",
       "    <tr>\n",
       "      <th>3</th>\n",
       "      <td>12075272</td>\n",
       "      <td>2</td>\n",
       "      <td>Darderi, Luciano</td>\n",
       "      <td>Cerundolo, Juan Manuel</td>\n",
       "    </tr>\n",
       "    <tr>\n",
       "      <th>4</th>\n",
       "      <td>12077080</td>\n",
       "      <td>1</td>\n",
       "      <td>Hibino, Nao</td>\n",
       "      <td>Linette, Magda</td>\n",
       "    </tr>\n",
       "  </tbody>\n",
       "</table>\n",
       "</div>"
      ],
      "text/plain": [
       "   match_id winner_code       home_player             away_player\n",
       "0  12075272           2  Darderi, Luciano  Cerundolo, Juan Manuel\n",
       "1  12075272           2  Darderi, Luciano  Cerundolo, Juan Manuel\n",
       "2  12075272           2  Darderi, Luciano  Cerundolo, Juan Manuel\n",
       "3  12075272           2  Darderi, Luciano  Cerundolo, Juan Manuel\n",
       "4  12077080           1       Hibino, Nao          Linette, Magda"
      ]
     },
     "execution_count": 5,
     "metadata": {},
     "output_type": "execute_result"
    }
   ],
   "source": [
    "# Merge all data together\n",
    "dfs = df_events.merge(df_home, on='match_id').merge(df_away, on='match_id')\n",
    "dfs.head()"
   ]
  },
  {
   "cell_type": "code",
   "execution_count": 6,
   "id": "9b2bd019",
   "metadata": {},
   "outputs": [
    {
     "data": {
      "text/html": [
       "<div>\n",
       "<style scoped>\n",
       "    .dataframe tbody tr th:only-of-type {\n",
       "        vertical-align: middle;\n",
       "    }\n",
       "\n",
       "    .dataframe tbody tr th {\n",
       "        vertical-align: top;\n",
       "    }\n",
       "\n",
       "    .dataframe thead th {\n",
       "        text-align: right;\n",
       "    }\n",
       "</style>\n",
       "<table border=\"1\" class=\"dataframe\">\n",
       "  <thead>\n",
       "    <tr style=\"text-align: right;\">\n",
       "      <th></th>\n",
       "      <th>match_id</th>\n",
       "      <th>winner_code</th>\n",
       "      <th>home_player</th>\n",
       "      <th>away_player</th>\n",
       "      <th>winning_player</th>\n",
       "    </tr>\n",
       "  </thead>\n",
       "  <tbody>\n",
       "    <tr>\n",
       "      <th>0</th>\n",
       "      <td>12075272</td>\n",
       "      <td>2</td>\n",
       "      <td>Darderi, Luciano</td>\n",
       "      <td>Cerundolo, Juan Manuel</td>\n",
       "      <td>Cerundolo, Juan Manuel</td>\n",
       "    </tr>\n",
       "    <tr>\n",
       "      <th>4</th>\n",
       "      <td>12077080</td>\n",
       "      <td>1</td>\n",
       "      <td>Hibino, Nao</td>\n",
       "      <td>Linette, Magda</td>\n",
       "      <td>Hibino, Nao</td>\n",
       "    </tr>\n",
       "    <tr>\n",
       "      <th>12</th>\n",
       "      <td>12077281</td>\n",
       "      <td>2</td>\n",
       "      <td>Rehberg, Max Hans</td>\n",
       "      <td>Agwi, Michael</td>\n",
       "      <td>Agwi, Michael</td>\n",
       "    </tr>\n",
       "    <tr>\n",
       "      <th>21</th>\n",
       "      <td>12075955</td>\n",
       "      <td>1</td>\n",
       "      <td>Watanuki, Yosuke</td>\n",
       "      <td>Rubio Fierros, Alan Fernando</td>\n",
       "      <td>Watanuki, Yosuke</td>\n",
       "    </tr>\n",
       "    <tr>\n",
       "      <th>25</th>\n",
       "      <td>12049571</td>\n",
       "      <td>2</td>\n",
       "      <td>Jarry, Nicolas</td>\n",
       "      <td>Díaz Acosta, Facundo</td>\n",
       "      <td>Díaz Acosta, Facundo</td>\n",
       "    </tr>\n",
       "  </tbody>\n",
       "</table>\n",
       "</div>"
      ],
      "text/plain": [
       "    match_id winner_code        home_player                   away_player  \\\n",
       "0   12075272           2   Darderi, Luciano        Cerundolo, Juan Manuel   \n",
       "4   12077080           1        Hibino, Nao                Linette, Magda   \n",
       "12  12077281           2  Rehberg, Max Hans                 Agwi, Michael   \n",
       "21  12075955           1   Watanuki, Yosuke  Rubio Fierros, Alan Fernando   \n",
       "25  12049571           2     Jarry, Nicolas          Díaz Acosta, Facundo   \n",
       "\n",
       "            winning_player  \n",
       "0   Cerundolo, Juan Manuel  \n",
       "4              Hibino, Nao  \n",
       "12           Agwi, Michael  \n",
       "21        Watanuki, Yosuke  \n",
       "25    Díaz Acosta, Facundo  "
      ]
     },
     "execution_count": 6,
     "metadata": {},
     "output_type": "execute_result"
    }
   ],
   "source": [
    "# Create a column for the winning player\n",
    "dfs['winning_player'] = dfs.apply(lambda x: x['home_player'] if x['winner_code'] == 1 else x['away_player'], axis=1)\n",
    "\n",
    "# Drop duplicate match_id rows && NaN\n",
    "dfs = dfs.drop_duplicates(subset='match_id').dropna()\n",
    "dfs.head()"
   ]
  },
  {
   "cell_type": "code",
   "execution_count": 7,
   "id": "42276670",
   "metadata": {},
   "outputs": [
    {
     "name": "stdout",
     "output_type": "stream",
     "text": [
      "\n",
      "Top 3 players by win count:\n"
     ]
    },
    {
     "data": {
      "text/html": [
       "<div>\n",
       "<style scoped>\n",
       "    .dataframe tbody tr th:only-of-type {\n",
       "        vertical-align: middle;\n",
       "    }\n",
       "\n",
       "    .dataframe tbody tr th {\n",
       "        vertical-align: top;\n",
       "    }\n",
       "\n",
       "    .dataframe thead th {\n",
       "        text-align: right;\n",
       "    }\n",
       "</style>\n",
       "<table border=\"1\" class=\"dataframe\">\n",
       "  <thead>\n",
       "    <tr style=\"text-align: right;\">\n",
       "      <th></th>\n",
       "      <th>player_name</th>\n",
       "      <th>win_count</th>\n",
       "    </tr>\n",
       "  </thead>\n",
       "  <tbody>\n",
       "    <tr>\n",
       "      <th>0</th>\n",
       "      <td>Popko, Dmitry</td>\n",
       "      <td>28</td>\n",
       "    </tr>\n",
       "    <tr>\n",
       "      <th>1</th>\n",
       "      <td>Chidekh, Clement</td>\n",
       "      <td>23</td>\n",
       "    </tr>\n",
       "    <tr>\n",
       "      <th>2</th>\n",
       "      <td>Faria, Jaime</td>\n",
       "      <td>20</td>\n",
       "    </tr>\n",
       "  </tbody>\n",
       "</table>\n",
       "</div>"
      ],
      "text/plain": [
       "        player_name  win_count\n",
       "0     Popko, Dmitry         28\n",
       "1  Chidekh, Clement         23\n",
       "2      Faria, Jaime         20"
      ]
     },
     "execution_count": 7,
     "metadata": {},
     "output_type": "execute_result"
    }
   ],
   "source": [
    "# Count wins by player\n",
    "df_win = dfs['winning_player'].value_counts().reset_index()\n",
    "df_win.columns = ['player_name', 'win_count']\n",
    "\n",
    "# Show top 3 players\n",
    "print(\"\\nTop 3 players by win count:\")\n",
    "df_win.head(3)"
   ]
  },
  {
   "cell_type": "code",
   "execution_count": 8,
   "id": "ec2f7d09",
   "metadata": {},
   "outputs": [
    {
     "name": "stdout",
     "output_type": "stream",
     "text": [
      "\n",
      "Player with the highest number of wins is: \"Popko, Dmitry\"\n",
      "With a total number of \"28\" wins in two monthes\n"
     ]
    }
   ],
   "source": [
    "# Get the top winner\n",
    "top_player = df_win.iloc[0]\n",
    "\n",
    "print(f\"\\nPlayer with the highest number of wins is: \\\"{top_player['player_name']}\\\"\")\n",
    "print(f\"With a total number of \\\"{top_player['win_count']}\\\" wins in two monthes\")"
   ]
  },
  {
   "cell_type": "code",
   "execution_count": 11,
   "id": "10b5c526",
   "metadata": {},
   "outputs": [
    {
     "data": {
      "image/png": "[encoded data removed]",
      "text/plain": [
       "<Figure size 1200x600 with 1 Axes>"
      ]
     },
     "metadata": {},
     "output_type": "display_data"
    }
   ],
   "source": [
    "import matplotlib.pyplot as plt\n",
    "\n",
    "# Get top 3 players\n",
    "top_3 = df_win.head(3)\n",
    "\n",
    "# Create plot\n",
    "plt.figure(figsize=(12, 6))\n",
    "bars = plt.barh(top_3['player_name'], top_3['win_count'], color='skyblue')\n",
    "plt.gca().invert_yaxis()  # Display highest at top\n",
    "plt.title('Top 3 Players by Win Count', fontsize=16)\n",
    "plt.xlabel('Number of Wins', fontsize=12)\n",
    "plt.ylabel('Player Name', fontsize=12)\n",
    "\n",
    "# Add value labels\n",
    "for bar in bars:\n",
    "    width = bar.get_width()\n",
    "    plt.text(width + 0.5,  # x-position\n",
    "             bar.get_y() + bar.get_height()/2,  # y-position\n",
    "             f'{int(width)}',  # text\n",
    "             va='center', ha='left')\n",
    "\n",
    "plt.tight_layout()\n",
    "plt.savefig('../data/output/figures/img3.png')\n",
    "plt.show()"
   ]
  },
  {
   "cell_type": "code",
   "execution_count": 15,
   "id": "c9865638",
   "metadata": {},
   "outputs": [
    {
     "name": "stdout",
     "output_type": "stream",
     "text": [
      "\n",
      "Player with the highest number of wins is: \"Popko, Dmitry\"\n",
      "With a total number of \"28\" wins in two months\n",
      "\n",
      "Performance Metrics:\n",
      "1. Popko, Dmitry has a 21.7% win advantage over Chidekh, Clement\n",
      "2. Popko, Dmitry has a 40.0% win advantage over Faria, Jaime\n",
      "3. Effect size between 1st and 2nd: Cohen's d = 1.06 (Large effect)\n"
     ]
    }
   ],
   "source": [
    "import numpy as np\n",
    "\n",
    "# Count wins by player\n",
    "df_win = dfs['winning_player'].value_counts().reset_index()\n",
    "df_win.columns = ['player_name', 'win_count']\n",
    "\n",
    "# Get top 3 players\n",
    "top_3 = df_win.head(3)\n",
    "players = top_3['player_name'].values\n",
    "wins = top_3['win_count'].values\n",
    "\n",
    "# Calculate performance metrics\n",
    "win_diff_2nd = (wins[0] - wins[1]) / wins[1] * 100\n",
    "win_diff_3rd = (wins[0] - wins[2]) / wins[2] * 100\n",
    "\n",
    "# Calculate effect size (Cohen's d) between 1st and 2nd (FIXED LINE)\n",
    "pooled_std = np.sqrt((np.std([wins[0], wins[1]], ddof=1)**2 + np.std([wins[0], wins[2]], ddof=1)**2)/2)\n",
    "cohens_d = (wins[0] - wins[1]) / pooled_std\n",
    "\n",
    "# Print results\n",
    "print(f\"\\nPlayer with the highest number of wins is: \\\"{players[0]}\\\"\")\n",
    "print(f\"With a total number of \\\"{wins[0]}\\\" wins in two months\\n\")\n",
    "print(\"Performance Metrics:\")\n",
    "print(f\"1. {players[0]} has a {win_diff_2nd:.1f}% win advantage over {players[1]}\")\n",
    "print(f\"2. {players[0]} has a {win_diff_3rd:.1f}% win advantage over {players[2]}\")\n",
    "print(f\"3. Effect size between 1st and 2nd: Cohen's d = {cohens_d:.2f} (Large effect)\")"
   ]
  }
 ],
 "metadata": {
  "kernelspec": {
   "display_name": ".venv",
   "language": "python",
   "name": "python3"
  },
  "language_info": {
   "codemirror_mode": {
    "name": "ipython",
    "version": 3
   },
   "file_extension": ".py",
   "mimetype": "text/x-python",
   "name": "python",
   "nbconvert_exporter": "python",
   "pygments_lexer": "ipython3",
   "version": "3.12.3"
  }
 },
 "nbformat": 4,
 "nbformat_minor": 5
}
